{
 "cells": [
  {
   "cell_type": "markdown",
   "metadata": {},
   "source": [
    "### Note\n",
    "* Instructions have been included for each segment. You do not have to follow them exactly, but they are included to help you think through the steps."
   ]
  },
  {
   "cell_type": "code",
   "execution_count": 1,
   "metadata": {},
   "outputs": [],
   "source": [
    "# Dependencies and Setup\n",
    "import pandas as pd\n",
    "\n",
    "# File to Load (Remember to Change These)\n",
    "file_to_load = \"Resources/purchase_data.csv\"\n",
    "\n",
    "# Read Purchasing File and store into Pandas data frame\n",
    "purchase_data = pd.read_csv(file_to_load)"
   ]
  },
  {
   "cell_type": "markdown",
   "metadata": {},
   "source": [
    "## Player Count"
   ]
  },
  {
   "cell_type": "markdown",
   "metadata": {},
   "source": [
    "* Display the total number of players\n"
   ]
  },
  {
   "cell_type": "code",
   "execution_count": 2,
   "metadata": {},
   "outputs": [
    {
     "data": {
      "text/plain": [
       "576"
      ]
     },
     "execution_count": 2,
     "metadata": {},
     "output_type": "execute_result"
    }
   ],
   "source": [
    "total_players_groupby = purchase_data.groupby(\"SN\")[\"SN\"].count()\n",
    "total_players = len(total_players_groupby)\n",
    "total_players"
   ]
  },
  {
   "cell_type": "code",
   "execution_count": 3,
   "metadata": {},
   "outputs": [
    {
     "data": {
      "text/plain": [
       "str"
      ]
     },
     "execution_count": 3,
     "metadata": {},
     "output_type": "execute_result"
    }
   ],
   "source": [
    "type(file_to_load)"
   ]
  },
  {
   "cell_type": "code",
   "execution_count": null,
   "metadata": {},
   "outputs": [],
   "source": []
  },
  {
   "cell_type": "markdown",
   "metadata": {},
   "source": [
    "## Purchasing Analysis (Total)"
   ]
  },
  {
   "cell_type": "markdown",
   "metadata": {},
   "source": [
    "* Run basic calculations to obtain number of unique items, average price, etc.\n",
    "\n",
    "\n",
    "* Create a summary data frame to hold the results\n",
    "\n",
    "\n",
    "* Optional: give the displayed data cleaner formatting\n",
    "\n",
    "\n",
    "* Display the summary data frame\n"
   ]
  },
  {
   "cell_type": "code",
   "execution_count": 4,
   "metadata": {},
   "outputs": [
    {
     "data": {
      "text/html": [
       "<div>\n",
       "<style scoped>\n",
       "    .dataframe tbody tr th:only-of-type {\n",
       "        vertical-align: middle;\n",
       "    }\n",
       "\n",
       "    .dataframe tbody tr th {\n",
       "        vertical-align: top;\n",
       "    }\n",
       "\n",
       "    .dataframe thead th {\n",
       "        text-align: right;\n",
       "    }\n",
       "</style>\n",
       "<table border=\"1\" class=\"dataframe\">\n",
       "  <thead>\n",
       "    <tr style=\"text-align: right;\">\n",
       "      <th></th>\n",
       "      <th>Unique Items</th>\n",
       "      <th>Average Price</th>\n",
       "      <th>Number of Pruchases</th>\n",
       "      <th>Total Revenue</th>\n",
       "    </tr>\n",
       "  </thead>\n",
       "  <tbody>\n",
       "    <tr>\n",
       "      <th>0</th>\n",
       "      <td>179</td>\n",
       "      <td>3.050987</td>\n",
       "      <td>780</td>\n",
       "      <td>2379.77</td>\n",
       "    </tr>\n",
       "  </tbody>\n",
       "</table>\n",
       "</div>"
      ],
      "text/plain": [
       "   Unique Items  Average Price  Number of Pruchases  Total Revenue\n",
       "0           179       3.050987                  780        2379.77"
      ]
     },
     "execution_count": 4,
     "metadata": {},
     "output_type": "execute_result"
    }
   ],
   "source": [
    "unique_items = purchase_data['Item Name'].nunique()\n",
    "average_price = purchase_data['Price'].mean()\n",
    "number_of_purchases = len(purchase_data)\n",
    "total_revenue = purchase_data['Price'].sum()\n",
    "\n",
    "#make a new data frame\n",
    "data = {'Unique Items': [unique_items],\n",
    "        'Average Price': [average_price],\n",
    "        'Number of Pruchases': [number_of_purchases],\n",
    "        'Total Revenue': [total_revenue]\n",
    "       } \n",
    "\n",
    "\n",
    "\n",
    "summary_data = pd.DataFrame.from_dict(data)\n",
    "summary_data"
   ]
  },
  {
   "cell_type": "markdown",
   "metadata": {},
   "source": [
    "## Gender Demographics"
   ]
  },
  {
   "cell_type": "markdown",
   "metadata": {},
   "source": [
    "* Percentage and Count of Male Players\n",
    "\n",
    "\n",
    "* Percentage and Count of Female Players\n",
    "\n",
    "\n",
    "* Percentage and Count of Other / Non-Disclosed\n",
    "\n",
    "\n"
   ]
  },
  {
   "cell_type": "code",
   "execution_count": 5,
   "metadata": {},
   "outputs": [
    {
     "data": {
      "text/html": [
       "<div>\n",
       "<style scoped>\n",
       "    .dataframe tbody tr th:only-of-type {\n",
       "        vertical-align: middle;\n",
       "    }\n",
       "\n",
       "    .dataframe tbody tr th {\n",
       "        vertical-align: top;\n",
       "    }\n",
       "\n",
       "    .dataframe thead th {\n",
       "        text-align: right;\n",
       "    }\n",
       "</style>\n",
       "<table border=\"1\" class=\"dataframe\">\n",
       "  <thead>\n",
       "    <tr style=\"text-align: right;\">\n",
       "      <th></th>\n",
       "      <th>Count</th>\n",
       "      <th>Percentage</th>\n",
       "    </tr>\n",
       "  </thead>\n",
       "  <tbody>\n",
       "    <tr>\n",
       "      <th>Male</th>\n",
       "      <td>484</td>\n",
       "      <td>84.027778</td>\n",
       "    </tr>\n",
       "    <tr>\n",
       "      <th>Female</th>\n",
       "      <td>81</td>\n",
       "      <td>14.062500</td>\n",
       "    </tr>\n",
       "    <tr>\n",
       "      <th>Other / Non-Disclosed</th>\n",
       "      <td>11</td>\n",
       "      <td>1.909722</td>\n",
       "    </tr>\n",
       "  </tbody>\n",
       "</table>\n",
       "</div>"
      ],
      "text/plain": [
       "                       Count  Percentage\n",
       "Male                     484   84.027778\n",
       "Female                    81   14.062500\n",
       "Other / Non-Disclosed     11    1.909722"
      ]
     },
     "execution_count": 5,
     "metadata": {},
     "output_type": "execute_result"
    }
   ],
   "source": [
    "player_count = purchase_data.groupby([\"SN\",\"Gender\"]).count()\n",
    "player_count.index\n",
    "gender_list = pd.Series([x[1] for x in player_count.index]).value_counts()\n",
    "gender_percentage = (gender_list / total_players)*100\n",
    "\n",
    "#make a data frame \n",
    "pd.DataFrame({'Count': gender_list, 'Percentage': gender_percentage})"
   ]
  },
  {
   "cell_type": "markdown",
   "metadata": {},
   "source": [
    "\n",
    "## Purchasing Analysis (Gender)"
   ]
  },
  {
   "cell_type": "markdown",
   "metadata": {},
   "source": [
    "* Run basic calculations to obtain purchase count, avg. purchase price, avg. purchase total per person etc. by gender\n",
    "\n",
    "\n",
    "\n",
    "\n",
    "* Create a summary data frame to hold the results\n",
    "\n",
    "\n",
    "* Optional: give the displayed data cleaner formatting\n",
    "\n",
    "\n",
    "* Display the summary data frame"
   ]
  },
  {
   "cell_type": "code",
   "execution_count": 6,
   "metadata": {
    "scrolled": true
   },
   "outputs": [
    {
     "data": {
      "text/html": [
       "<div>\n",
       "<style scoped>\n",
       "    .dataframe tbody tr th:only-of-type {\n",
       "        vertical-align: middle;\n",
       "    }\n",
       "\n",
       "    .dataframe tbody tr th {\n",
       "        vertical-align: top;\n",
       "    }\n",
       "\n",
       "    .dataframe thead th {\n",
       "        text-align: right;\n",
       "    }\n",
       "</style>\n",
       "<table border=\"1\" class=\"dataframe\">\n",
       "  <thead>\n",
       "    <tr style=\"text-align: right;\">\n",
       "      <th></th>\n",
       "      <th>Average Price</th>\n",
       "      <th>Purchase Count</th>\n",
       "      <th>Purchase Total</th>\n",
       "      <th>Average Total Per Person</th>\n",
       "    </tr>\n",
       "    <tr>\n",
       "      <th>Gender</th>\n",
       "      <th></th>\n",
       "      <th></th>\n",
       "      <th></th>\n",
       "      <th></th>\n",
       "    </tr>\n",
       "  </thead>\n",
       "  <tbody>\n",
       "    <tr>\n",
       "      <th>Female</th>\n",
       "      <td>3.203009</td>\n",
       "      <td>113</td>\n",
       "      <td>361.94</td>\n",
       "      <td>4.468395</td>\n",
       "    </tr>\n",
       "    <tr>\n",
       "      <th>Male</th>\n",
       "      <td>3.017853</td>\n",
       "      <td>652</td>\n",
       "      <td>1967.64</td>\n",
       "      <td>4.065372</td>\n",
       "    </tr>\n",
       "    <tr>\n",
       "      <th>Other / Non-Disclosed</th>\n",
       "      <td>3.346000</td>\n",
       "      <td>15</td>\n",
       "      <td>50.19</td>\n",
       "      <td>4.562727</td>\n",
       "    </tr>\n",
       "  </tbody>\n",
       "</table>\n",
       "</div>"
      ],
      "text/plain": [
       "                       Average Price  Purchase Count  Purchase Total  \\\n",
       "Gender                                                                 \n",
       "Female                      3.203009             113          361.94   \n",
       "Male                        3.017853             652         1967.64   \n",
       "Other / Non-Disclosed       3.346000              15           50.19   \n",
       "\n",
       "                       Average Total Per Person  \n",
       "Gender                                           \n",
       "Female                                 4.468395  \n",
       "Male                                   4.065372  \n",
       "Other / Non-Disclosed                  4.562727  "
      ]
     },
     "execution_count": 6,
     "metadata": {},
     "output_type": "execute_result"
    }
   ],
   "source": [
    "avg_price = purchase_data.groupby(\"Gender\").mean()['Price']\n",
    "purchase_count = purchase_data.groupby(\"Gender\").count()['Price']\n",
    "purchase_total = purchase_data.groupby(\"Gender\").sum()['Price']\n",
    "\n",
    "#make a data frame\n",
    "data = {'Average Price': avg_price,\n",
    "        'Purchase Count': purchase_count,\n",
    "        'Purchase Total': purchase_total,\n",
    "        'Average Total Per Person': purchase_total/gender_list\n",
    "        \n",
    "       } \n",
    "\n",
    "summary_data = pd.DataFrame(data)\n",
    "summary_data"
   ]
  },
  {
   "cell_type": "markdown",
   "metadata": {},
   "source": [
    "## Age Demographics"
   ]
  },
  {
   "cell_type": "markdown",
   "metadata": {},
   "source": [
    "* Establish bins for ages\n",
    "\n",
    "\n",
    "* Categorize the existing players using the age bins. Hint: use pd.cut()\n",
    "\n",
    "\n",
    "* Calculate the numbers and percentages by age group\n",
    "\n",
    "\n",
    "* Create a summary data frame to hold the results\n",
    "\n",
    "\n",
    "* Optional: round the percentage column to two decimal points\n",
    "\n",
    "\n",
    "* Display Age Demographics Table\n"
   ]
  },
  {
   "cell_type": "code",
   "execution_count": 7,
   "metadata": {},
   "outputs": [
    {
     "data": {
      "text/plain": [
       "{'Percentage of Population': age_category\n",
       " (0, 14]      6.770833\n",
       " (14, 21]    38.020833\n",
       " (21, 28]    36.979167\n",
       " (28, 35]    12.500000\n",
       " (35, 42]     5.034722\n",
       " (42, 48]     0.694444\n",
       " Name: Age, dtype: float64}"
      ]
     },
     "execution_count": 7,
     "metadata": {},
     "output_type": "execute_result"
    }
   ],
   "source": [
    "#establish bins for ages\n",
    "bins =[0,14,21,28,35,42,48] \n",
    "\n",
    "# players_age =\n",
    "purchase_data['age_category'] = pd.cut(x=purchase_data['Age'], bins=bins)\n",
    "\n",
    "#remove columns you don't need\n",
    "purchase_data.groupby(\"age_category\").mean()\n",
    "\n",
    "#clean up\n",
    "age_demo_df = purchase_data.drop_duplicates([\"SN\",\"Age\"])\n",
    "total_count = age_demo_df.groupby(\"age_category\").count()['Age']\n",
    "\n",
    "# age_percentage = purchase_data.groupby(\"age_category\").()['Age']\n",
    "\n",
    "#create your data frame \n",
    "data = {'Percentage of Population': (total_count / total_players) * 100} \n",
    "data"
   ]
  },
  {
   "cell_type": "markdown",
   "metadata": {},
   "source": [
    "## Purchasing Analysis (Age)"
   ]
  },
  {
   "cell_type": "markdown",
   "metadata": {},
   "source": [
    "* Bin the purchase_data data frame by age\n",
    "\n",
    "\n",
    "* Run basic calculations to obtain purchase count, avg. purchase price, avg. purchase total per person etc. in the table below\n",
    "\n",
    "\n",
    "* Create a summary data frame to hold the results\n",
    "\n",
    "\n",
    "* Optional: give the displayed data cleaner formatting\n",
    "\n",
    "\n",
    "* Display the summary data frame"
   ]
  },
  {
   "cell_type": "code",
   "execution_count": 8,
   "metadata": {},
   "outputs": [
    {
     "data": {
      "text/html": [
       "<div>\n",
       "<style scoped>\n",
       "    .dataframe tbody tr th:only-of-type {\n",
       "        vertical-align: middle;\n",
       "    }\n",
       "\n",
       "    .dataframe tbody tr th {\n",
       "        vertical-align: top;\n",
       "    }\n",
       "\n",
       "    .dataframe thead th {\n",
       "        text-align: right;\n",
       "    }\n",
       "</style>\n",
       "<table border=\"1\" class=\"dataframe\">\n",
       "  <thead>\n",
       "    <tr style=\"text-align: right;\">\n",
       "      <th></th>\n",
       "      <th>Age Purchase Toatl</th>\n",
       "      <th>Age Average</th>\n",
       "      <th>Age Count</th>\n",
       "      <th>Average Total Per Person</th>\n",
       "    </tr>\n",
       "    <tr>\n",
       "      <th>age_category</th>\n",
       "      <th></th>\n",
       "      <th></th>\n",
       "      <th></th>\n",
       "      <th></th>\n",
       "    </tr>\n",
       "  </thead>\n",
       "  <tbody>\n",
       "    <tr>\n",
       "      <th>(0, 14]</th>\n",
       "      <td>159.91</td>\n",
       "      <td>3.135490</td>\n",
       "      <td>51</td>\n",
       "      <td>0.277622</td>\n",
       "    </tr>\n",
       "    <tr>\n",
       "      <th>(14, 21]</th>\n",
       "      <td>907.95</td>\n",
       "      <td>3.057071</td>\n",
       "      <td>297</td>\n",
       "      <td>1.576302</td>\n",
       "    </tr>\n",
       "    <tr>\n",
       "      <th>(21, 28]</th>\n",
       "      <td>876.77</td>\n",
       "      <td>3.002637</td>\n",
       "      <td>292</td>\n",
       "      <td>1.522170</td>\n",
       "    </tr>\n",
       "    <tr>\n",
       "      <th>(28, 35]</th>\n",
       "      <td>301.26</td>\n",
       "      <td>3.012600</td>\n",
       "      <td>100</td>\n",
       "      <td>0.523021</td>\n",
       "    </tr>\n",
       "    <tr>\n",
       "      <th>(35, 42]</th>\n",
       "      <td>122.82</td>\n",
       "      <td>3.411667</td>\n",
       "      <td>36</td>\n",
       "      <td>0.213229</td>\n",
       "    </tr>\n",
       "    <tr>\n",
       "      <th>(42, 48]</th>\n",
       "      <td>11.06</td>\n",
       "      <td>2.765000</td>\n",
       "      <td>4</td>\n",
       "      <td>0.019201</td>\n",
       "    </tr>\n",
       "  </tbody>\n",
       "</table>\n",
       "</div>"
      ],
      "text/plain": [
       "              Age Purchase Toatl  Age Average  Age Count  \\\n",
       "age_category                                               \n",
       "(0, 14]                   159.91     3.135490         51   \n",
       "(14, 21]                  907.95     3.057071        297   \n",
       "(21, 28]                  876.77     3.002637        292   \n",
       "(28, 35]                  301.26     3.012600        100   \n",
       "(35, 42]                  122.82     3.411667         36   \n",
       "(42, 48]                   11.06     2.765000          4   \n",
       "\n",
       "              Average Total Per Person  \n",
       "age_category                            \n",
       "(0, 14]                       0.277622  \n",
       "(14, 21]                      1.576302  \n",
       "(21, 28]                      1.522170  \n",
       "(28, 35]                      0.523021  \n",
       "(35, 42]                      0.213229  \n",
       "(42, 48]                      0.019201  "
      ]
     },
     "execution_count": 8,
     "metadata": {},
     "output_type": "execute_result"
    }
   ],
   "source": [
    "#establish bins for purchase data by age\n",
    "purchase_data['age_category'] = pd.cut(x=purchase_data['Age'], bins=bins)\n",
    "\n",
    "#basic calculation for purchase count, avg. purchase price, avg. purchase total per person\n",
    "age_purchase_total = purchase_data.groupby(\"age_category\").sum()['Price']\n",
    "age_average = purchase_data.groupby(\"age_category\").mean()['Price']\n",
    "age_count =  purchase_data.groupby(\"age_category\").count()['Price']\n",
    "\n",
    "#create data frame\n",
    "data = {'Age Purchase Total': age_purchase_total,\n",
    "        'Age Average': age_average,\n",
    "        'Age Count': age_count,\n",
    "        'Average Total Per Person': age_purchase_total/total_players\n",
    "        \n",
    "       } \n",
    "\n",
    "summary_data = pd.DataFrame(data)\n",
    "summary_data"
   ]
  },
  {
   "cell_type": "markdown",
   "metadata": {},
   "source": [
    "## Top Spenders"
   ]
  },
  {
   "cell_type": "markdown",
   "metadata": {},
   "source": [
    "* Run basic calculations to obtain the results in the table below\n",
    "\n",
    "\n",
    "* Create a summary data frame to hold the results\n",
    "\n",
    "\n",
    "* Sort the total purchase value column in descending order\n",
    "\n",
    "\n",
    "* Optional: give the displayed data cleaner formatting\n",
    "\n",
    "\n",
    "* Display a preview of the summary data frame\n",
    "\n"
   ]
  },
  {
   "cell_type": "code",
   "execution_count": null,
   "metadata": {},
   "outputs": [],
   "source": []
  },
  {
   "cell_type": "markdown",
   "metadata": {},
   "source": [
    "## Most Popular Items"
   ]
  },
  {
   "cell_type": "markdown",
   "metadata": {},
   "source": [
    "* Retrieve the Item ID, Item Name, and Item Price columns\n",
    "\n",
    "\n",
    "* Group by Item ID and Item Name. Perform calculations to obtain purchase count, average item price, and total purchase value\n",
    "\n",
    "\n",
    "* Create a summary data frame to hold the results\n",
    "\n",
    "\n",
    "* Sort the purchase count column in descending order\n",
    "\n",
    "\n",
    "* Optional: give the displayed data cleaner formatting\n",
    "\n",
    "\n",
    "* Display a preview of the summary data frame\n",
    "\n"
   ]
  },
  {
   "cell_type": "code",
   "execution_count": null,
   "metadata": {},
   "outputs": [],
   "source": []
  },
  {
   "cell_type": "markdown",
   "metadata": {},
   "source": [
    "## Most Profitable Items"
   ]
  },
  {
   "cell_type": "markdown",
   "metadata": {},
   "source": [
    "* Sort the above table by total purchase value in descending order\n",
    "\n",
    "\n",
    "* Optional: give the displayed data cleaner formatting\n",
    "\n",
    "\n",
    "* Display a preview of the data frame\n",
    "\n"
   ]
  },
  {
   "cell_type": "code",
   "execution_count": null,
   "metadata": {
    "scrolled": true
   },
   "outputs": [],
   "source": []
  }
 ],
 "metadata": {
  "anaconda-cloud": {},
  "kernel_info": {
   "name": "python3"
  },
  "kernelspec": {
   "display_name": "Python 3",
   "language": "python",
   "name": "python3"
  },
  "language_info": {
   "codemirror_mode": {
    "name": "ipython",
    "version": 3
   },
   "file_extension": ".py",
   "mimetype": "text/x-python",
   "name": "python",
   "nbconvert_exporter": "python",
   "pygments_lexer": "ipython3",
   "version": "3.8.3"
  },
  "latex_envs": {
   "LaTeX_envs_menu_present": true,
   "autoclose": false,
   "autocomplete": true,
   "bibliofile": "biblio.bib",
   "cite_by": "apalike",
   "current_citInitial": 1,
   "eqLabelWithNumbers": true,
   "eqNumInitial": 1,
   "hotkeys": {
    "equation": "Ctrl-E",
    "itemize": "Ctrl-I"
   },
   "labels_anchors": false,
   "latex_user_defs": false,
   "report_style_numbering": false,
   "user_envs_cfg": false
  },
  "nteract": {
   "version": "0.2.0"
  }
 },
 "nbformat": 4,
 "nbformat_minor": 2
}
